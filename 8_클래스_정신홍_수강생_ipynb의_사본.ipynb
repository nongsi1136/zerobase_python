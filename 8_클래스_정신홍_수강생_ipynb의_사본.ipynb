{
  "cells": [
    {
      "cell_type": "markdown",
      "metadata": {
        "id": "view-in-github",
        "colab_type": "text"
      },
      "source": [
        "<a href=\"https://colab.research.google.com/github/nongsi1136/zerobase_python/blob/main/8_%ED%81%B4%EB%9E%98%EC%8A%A4_%EC%A0%95%EC%8B%A0%ED%99%8D_%EC%88%98%EA%B0%95%EC%83%9D_ipynb%EC%9D%98_%EC%82%AC%EB%B3%B8.ipynb\" target=\"_parent\"><img src=\"https://colab.research.google.com/assets/colab-badge.svg\" alt=\"Open In Colab\"/></a>"
      ]
    },
    {
      "cell_type": "markdown",
      "id": "e29a7319-b1ae-410d-8918-a0bcd3e03d9c",
      "metadata": {
        "id": "e29a7319-b1ae-410d-8918-a0bcd3e03d9c"
      },
      "source": [
        "## 문제 1. 학점 관리 시스템\n",
        "- 학생의 이름과 점수 목록을 저장하고, 평균 점수를 계산하여 출력하는 클래스를 작성하세요.\n",
        "- 클래스를 사용해 두 명의 학생 정보를 저장하고, 각 학생의 평균 점수를 포함한 정보를 출력하세요."
      ]
    },
    {
      "cell_type": "code",
      "execution_count": null,
      "id": "99a0b66f-b8e4-4e95-a8dd-e5ae2a373713",
      "metadata": {
        "id": "99a0b66f-b8e4-4e95-a8dd-e5ae2a373713",
        "colab": {
          "base_uri": "https://localhost:8080/"
        },
        "outputId": "2b95d4df-9757-4b08-a11e-c41bd217e04a"
      },
      "outputs": [
        {
          "output_type": "stream",
          "name": "stdout",
          "text": [
            "학생 이름: 김제니\n",
            "점수 목록: [85, 99, 100]\n",
            "김제니의 평균 점수: 94.66666666666667\n",
            "학생 이름: 박채영\n",
            "점수 목록: [99, 92, 88, 97]\n",
            "박채영의 평균 점수: 94.0\n"
          ]
        }
      ],
      "source": [
        "class Student:\n",
        "  def __init__(self,name,scores):\n",
        "    self.name = name\n",
        "    self.scores = scores\n",
        "\n",
        "  def calculate_average(self):\n",
        "    return sum(self.scores) / len(self.scores)\n",
        "\n",
        "  def display_info(self):\n",
        "    average = self.calculate_average()\n",
        "    print(f\"학생 이름: {self.name}\")\n",
        "    print(f\"점수 목록: {self.scores}\")\n",
        "    print(f\"{self.name}의 평균 점수: {average}\")\n",
        "\n",
        "student1 = Student(\"김제니\",[85,99,100])\n",
        "student2 = Student(\"박채영\", [99,92,88,97])\n",
        "\n",
        "student1.display_info()\n",
        "student2.display_info()"
      ]
    },
    {
      "cell_type": "markdown",
      "id": "ec726635-201b-48de-a17a-f46bf6e2f2c5",
      "metadata": {
        "id": "ec726635-201b-48de-a17a-f46bf6e2f2c5"
      },
      "source": [
        "## 문제 2. 은행 계좌 관리 시스템\n",
        "- 은행 계좌의 소유자 이름과 초기 잔액을 저장하고, 입출금 기능을 제공하는 클래스를 작성하세요.\n",
        "- 입금 및 출금 금액은 0보다 커야 하고, 잔액보다 출금 금액이 클 수는 없습니다.\n",
        "- 클래스를 사용해 하나의 계좌를 생성하고 입금, 출금을 실행하며 잔액을 확인하세요."
      ]
    },
    {
      "cell_type": "code",
      "execution_count": null,
      "id": "45eeccf9-1e73-495a-814e-e8ae0bab1712",
      "metadata": {
        "id": "45eeccf9-1e73-495a-814e-e8ae0bab1712"
      },
      "outputs": [],
      "source": [
        "class BankAccount:\n",
        "  def __init__(self,owner,balance=0):\n",
        "    self.owner = owner\n",
        "    self.balance = balance\n",
        "\n",
        "  def deposit(self,amount):\n",
        "    if amount > 0:\n",
        "      self.balance += amount\n",
        "      print(f\"{amount}원이 입금되었습니다. 현재 잔액:{self.balance}원\")\n",
        "    else:\n",
        "      print(\"입금 금액은 0보다 커야 합니다.\")\n",
        "\n",
        "  def withdraw(self,amount):\n",
        "    if amount > self.balance:\n",
        "      print(\"잔액이 부족합니다.\")\n",
        "    elif amount <= 0:\n",
        "      print(\"출금 금액은 0보다 커야 합니다.\")\n",
        "    else:\n",
        "      self.balance -= amount\n",
        "      print(f\"{amount}원이 출금되었습니다. 현재 잔액:{self.balance}원\")\n",
        "\n",
        "  def display_info(self):\n",
        "    print(f\"계좌 소유자: {self.owner}\")\n",
        "    print(f\"잔액: {self.balance}원\")\n"
      ]
    },
    {
      "cell_type": "code",
      "source": [
        "account = BankAccount(\"라리사\", 120000)\n",
        "\n",
        "account.display_info()\n",
        "account.deposit(30000)\n",
        "account.deposit(-100)\n",
        "account.withdraw(10000)\n",
        "account.withdraw(150000000)"
      ],
      "metadata": {
        "colab": {
          "base_uri": "https://localhost:8080/"
        },
        "id": "w-8TdKZBRmtt",
        "outputId": "083d1e7e-5bf0-470e-8e80-2a30638003b1"
      },
      "id": "w-8TdKZBRmtt",
      "execution_count": null,
      "outputs": [
        {
          "output_type": "stream",
          "name": "stdout",
          "text": [
            "계좌 소유자: 라리사\n",
            "잔액: 120000원\n",
            "30000원이 입금되었습니다. 현재 잔액:150000원\n",
            "입금 금액은 0보다 커야 합니다.\n",
            "10000원이 출금되었습니다. 현재 잔액:140000원\n",
            "잔액이 부족합니다.\n"
          ]
        }
      ]
    },
    {
      "cell_type": "markdown",
      "source": [],
      "metadata": {
        "id": "x_cPPulZStFv"
      },
      "id": "x_cPPulZStFv"
    }
  ],
  "metadata": {
    "kernelspec": {
      "display_name": "Python 3 (ipykernel)",
      "language": "python",
      "name": "python3"
    },
    "language_info": {
      "codemirror_mode": {
        "name": "ipython",
        "version": 3
      },
      "file_extension": ".py",
      "mimetype": "text/x-python",
      "name": "python",
      "nbconvert_exporter": "python",
      "pygments_lexer": "ipython3",
      "version": "3.10.11"
    },
    "colab": {
      "provenance": [],
      "include_colab_link": true
    }
  },
  "nbformat": 4,
  "nbformat_minor": 5
}