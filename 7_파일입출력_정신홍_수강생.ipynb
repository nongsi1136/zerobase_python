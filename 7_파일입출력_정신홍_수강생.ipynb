{
  "cells": [
    {
      "cell_type": "markdown",
      "metadata": {
        "id": "view-in-github",
        "colab_type": "text"
      },
      "source": [
        "<a href=\"https://colab.research.google.com/github/nongsi1136/zerobase_python/blob/main/7_%ED%8C%8C%EC%9D%BC%EC%9E%85%EC%B6%9C%EB%A0%A5_%EC%A0%95%EC%8B%A0%ED%99%8D_%EC%88%98%EA%B0%95%EC%83%9D.ipynb\" target=\"_parent\"><img src=\"https://colab.research.google.com/assets/colab-badge.svg\" alt=\"Open In Colab\"/></a>"
      ]
    },
    {
      "cell_type": "markdown",
      "id": "7c18c493-1806-44f2-9e0a-a00d8d5530e4",
      "metadata": {
        "id": "7c18c493-1806-44f2-9e0a-a00d8d5530e4"
      },
      "source": [
        "## 문제 1. 데이터 폴더 내에 있는 example.txt 파일을 불러오고 중첩 리스트로 변환하세요.\n",
        "- 정답: [[1,2,3], [4,5,6], [7,8,9]]"
      ]
    },
    {
      "cell_type": "code",
      "execution_count": null,
      "id": "1f585bc1-b9e3-4179-bda6-4c520c904021",
      "metadata": {
        "id": "1f585bc1-b9e3-4179-bda6-4c520c904021"
      },
      "outputs": [],
      "source": [
        "path = r'C:\\Users\\duwk6\\Desktop\\2025\\과제 데이터\\[Part 1] 데이터 분석가에게 꼭 필요한 기초 문법_과제데이터\\example.txt'"
      ]
    },
    {
      "cell_type": "code",
      "execution_count": null,
      "id": "07b07637-5740-4725-a6cd-0775d7952205",
      "metadata": {
        "id": "07b07637-5740-4725-a6cd-0775d7952205",
        "outputId": "22e946cd-9ba3-4d2d-9aec-e3bfad343f9f"
      },
      "outputs": [
        {
          "name": "stdout",
          "output_type": "stream",
          "text": [
            "1\t2\t3\n",
            "4\t5\t6\n",
            "7\t8\t9\n"
          ]
        }
      ],
      "source": [
        "with open(path, 'r') as f:\n",
        "    contents = f.read()\n",
        "print(contents)"
      ]
    },
    {
      "cell_type": "code",
      "execution_count": null,
      "id": "dcd22935-1765-4ee5-a28a-cd4e62b5fce7",
      "metadata": {
        "id": "dcd22935-1765-4ee5-a28a-cd4e62b5fce7",
        "outputId": "7907134e-7a3b-44b9-e6c4-4dd9390cea14"
      },
      "outputs": [
        {
          "name": "stdout",
          "output_type": "stream",
          "text": [
            "[[1, 2, 3], [4, 5, 6], [7, 8, 9]]\n"
          ]
        }
      ],
      "source": [
        "nested_list =[]\n",
        "with open(path,'r') as file:\n",
        "    for line in file:\n",
        "        nested_list.append([int(x) for x in line.split()])\n",
        "print(nested_list)"
      ]
    },
    {
      "cell_type": "markdown",
      "id": "4c419714-7e34-401c-812f-908cde0027db",
      "metadata": {
        "id": "4c419714-7e34-401c-812f-908cde0027db"
      },
      "source": [
        "## 문제 2. 데이터 폴더에 있는 파일 가운데 data로 시작하는 파일의 모든 내용을 불러와 저장하세요.\n",
        "- 정답: ['data1', 'data2', 'data3', ..., 'data100']"
      ]
    },
    {
      "cell_type": "code",
      "execution_count": null,
      "id": "73d4ce32-656c-48da-bbf8-c688bcb78670",
      "metadata": {
        "id": "73d4ce32-656c-48da-bbf8-c688bcb78670",
        "outputId": "2428425a-f9ed-4922-e813-8a4bc4c62ba8"
      },
      "outputs": [
        {
          "name": "stdout",
          "output_type": "stream",
          "text": [
            "['data1', 'data2', 'data3', 'data4', 'data5', 'data6', 'data7', 'data8', 'data9', 'data10', 'data11', 'data12', 'data13', 'data14', 'data15', 'data16', 'data17', 'data18', 'data19', 'data20', 'data21', 'data22', 'data23', 'data24', 'data25', 'data26', 'data27', 'data28', 'data29', 'data30', 'data31', 'data32', 'data33', 'data34', 'data35', 'data36', 'data37', 'data38', 'data39', 'data40', 'data41', 'data42', 'data43', 'data44', 'data45', 'data46', 'data47', 'data48', 'data49', 'data50', 'data51', 'data52', 'data53', 'data54', 'data55', 'data56', 'data57', 'data58', 'data59', 'data60', 'data61', 'data62', 'data63', 'data64', 'data65', 'data66', 'data67', 'data68', 'data69', 'data70', 'data71', 'data72', 'data73', 'data74', 'data75', 'data76', 'data77', 'data78', 'data79', 'data80', 'data81', 'data82', 'data83', 'data84', 'data85', 'data86', 'data87', 'data88', 'data89', 'data90', 'data91', 'data92', 'data93', 'data94', 'data95', 'data96', 'data97', 'data98', 'data99', 'data100']\n"
          ]
        }
      ],
      "source": [
        "import os\n",
        "path = r'C:\\Users\\duwk6\\Desktop\\2025\\과제 데이터\\[Part 1] 데이터 분석가에게 꼭 필요한 기초 문법_과제데이터'\n",
        "data_files = [file for file in os.listdir(path) if file.startswith('data') and file.endswith('.txt')]\n",
        "data_files.sort(key=lambda x: int(x.replace('data', '').replace('.txt', '').strip()))\n",
        "\n",
        "#print(f\"Found files: {data_files}\")\n",
        "\n",
        "data_contents = []\n",
        "\n",
        "for file in data_files:\n",
        "    file_path = os.path.join(path, file) #파일 경로 설정\n",
        "    with open(file_path,'r') as f:\n",
        "        data_contents.append(f.read())  # 파일의 내용을 읽어 리스트에 저장\n",
        "print(data_contents)\n",
        "#print(f\"Total files read: {len(data_contents)}\")\n",
        "#print(data_contents[:5])"
      ]
    },
    {
      "cell_type": "markdown",
      "id": "56e51bd5-b0d1-4a18-8b71-c70eaf5bffa1",
      "metadata": {
        "id": "56e51bd5-b0d1-4a18-8b71-c70eaf5bffa1"
      },
      "source": [
        "## 문제 3. 데이터 폴더에 있는 dict.pkl을 불러오세요. 해당 딕셔너리에 있는 요소 가운데, 키가 A인 값을 100으로 수정하고 그 딕셔너리를 update_dict.pkl에 저장하세요."
      ]
    },
    {
      "cell_type": "code",
      "execution_count": null,
      "id": "dd7ee1fa-8def-47f0-9236-288700b46338",
      "metadata": {
        "id": "dd7ee1fa-8def-47f0-9236-288700b46338",
        "outputId": "7b881d95-d1fa-49cb-cbb9-6d902021741b"
      },
      "outputs": [
        {
          "name": "stdout",
          "output_type": "stream",
          "text": [
            "b''\n"
          ]
        }
      ],
      "source": [
        "#파일 내용 호ㅏㄱ인 파일 비어있는 것 같아서 ㅠㅠ\n",
        "import pickle\n",
        "path = r'C:\\Users\\duwk6\\Desktop\\2025\\과제 데이터\\[Part 1] 데이터 분석가에게 꼭 필요한 기초 문법_과제데이터\\dict.pkl'\n",
        "with open(path, 'rb') as file:\n",
        "    data = file.read()\n",
        "    print(data)"
      ]
    },
    {
      "cell_type": "code",
      "execution_count": null,
      "id": "ae2f1662-f458-48c1-a66b-45674d6fa92d",
      "metadata": {
        "id": "ae2f1662-f458-48c1-a66b-45674d6fa92d",
        "outputId": "92f2ac3d-5eaa-4ea1-fd18-e7171cbeecd9"
      },
      "outputs": [
        {
          "name": "stdout",
          "output_type": "stream",
          "text": [
            "새로운 딕셔너리가 pickle 파일에 저장되었습니다.\n"
          ]
        }
      ],
      "source": [
        "import pickle\n",
        "\n",
        "# 새로운 딕셔너리 필요\n",
        "my_dict = {'A': 1, 'B': 2, 'C': 3}\n",
        "\n",
        "# dict.pkl에 저장\n",
        "path = r'C:\\Users\\duwk6\\Desktop\\2025\\과제 데이터\\[Part 1] 데이터 분석가에게 꼭 필요한 기초 문법_과제데이터\\dict.pkl'\n",
        "with open(path, 'wb') as file:\n",
        "    pickle.dump(my_dict, file)\n",
        "\n",
        "print(\"새로운 딕셔너리가 pickle 파일에 저장되었습니다.\")"
      ]
    },
    {
      "cell_type": "code",
      "execution_count": null,
      "id": "2c1d53a0-1002-439f-b62c-12686346b385",
      "metadata": {
        "id": "2c1d53a0-1002-439f-b62c-12686346b385",
        "outputId": "701f5b4a-1a85-4e2d-a3d3-795ce22971cb"
      },
      "outputs": [
        {
          "name": "stdout",
          "output_type": "stream",
          "text": [
            "b'\\x80\\x04\\x95\\x17\\x00\\x00\\x00\\x00\\x00\\x00\\x00}\\x94(\\x8c\\x01A\\x94K\\x01\\x8c\\x01B\\x94K\\x02\\x8c\\x01C\\x94K\\x03u.'\n"
          ]
        }
      ],
      "source": [
        "import pickle\n",
        "path = r'C:\\Users\\duwk6\\Desktop\\2025\\과제 데이터\\[Part 1] 데이터 분석가에게 꼭 필요한 기초 문법_과제데이터\\dict.pkl'\n",
        "with open(path, 'rb') as file:\n",
        "    data = file.read()\n",
        "    print(data)"
      ]
    },
    {
      "cell_type": "code",
      "execution_count": null,
      "id": "ed506685-bae6-4777-91ec-49dd46fc1f92",
      "metadata": {
        "id": "ed506685-bae6-4777-91ec-49dd46fc1f92",
        "outputId": "3f60fa83-59b2-4808-ade4-7ee1fe0d9dd2"
      },
      "outputs": [
        {
          "name": "stdout",
          "output_type": "stream",
          "text": [
            "수정된 딕셔너리가 'update_dict.pkl'에 저장되었습니다.\n"
          ]
        }
      ],
      "source": [
        "import pickle\n",
        "\n",
        "# dict.pkl 파일 경로\n",
        "path = r'C:\\Users\\duwk6\\Desktop\\2025\\과제 데이터\\[Part 1] 데이터 분석가에게 꼭 필요한 기초 문법_과제데이터\\dict.pkl'\n",
        "\n",
        "# dict.pkl 파일 불러오기\n",
        "with open(path, 'rb') as file:\n",
        "    my_dict = pickle.load(file)\n",
        "\n",
        "# 키 'A'의 값이 있으면 100으로 수정\n",
        "if 'A' in my_dict:\n",
        "    my_dict['A'] = 100\n",
        "\n",
        "# 수정된 딕셔너리 update_dict.pkl에 저장\n",
        "update_path = r'C:\\Users\\duwk6\\Desktop\\2025\\과제 데이터\\[Part 1] 데이터 분석가에게 꼭 필요한 기초 문법_과제데이터\\update_dict.pkl'\n",
        "with open(update_path, 'wb') as file:\n",
        "    pickle.dump(my_dict, file)\n",
        "\n",
        "print(\"수정된 딕셔너리가 'update_dict.pkl'에 저장되었습니다.\")"
      ]
    },
    {
      "cell_type": "code",
      "execution_count": null,
      "id": "5e5d7455-e2c3-435d-99de-116d6b2d1df9",
      "metadata": {
        "id": "5e5d7455-e2c3-435d-99de-116d6b2d1df9",
        "outputId": "7709e3f0-a835-4150-d763-9e8183e766e2"
      },
      "outputs": [
        {
          "name": "stdout",
          "output_type": "stream",
          "text": [
            "{'A': 100, 'B': 2, 'C': 3}\n"
          ]
        }
      ],
      "source": [
        "import pickle\n",
        "\n",
        "# update_dict.pkl 파일 경로\n",
        "update_path = r'C:\\Users\\duwk6\\Desktop\\2025\\과제 데이터\\[Part 1] 데이터 분석가에게 꼭 필요한 기초 문법_과제데이터\\update_dict.pkl'\n",
        "\n",
        "# update_dict.pkl 파일 불러오기\n",
        "with open(update_path, 'rb') as file:\n",
        "    updated_dict = pickle.load(file)\n",
        "\n",
        "# 딕셔너리 출력\n",
        "print(updated_dict)\n"
      ]
    },
    {
      "cell_type": "code",
      "execution_count": null,
      "id": "a42ed6e8-5dd6-4aed-911c-ba4bbd2b5e14",
      "metadata": {
        "id": "a42ed6e8-5dd6-4aed-911c-ba4bbd2b5e14"
      },
      "outputs": [],
      "source": []
    }
  ],
  "metadata": {
    "kernelspec": {
      "display_name": "Python 3 (ipykernel)",
      "language": "python",
      "name": "python3"
    },
    "language_info": {
      "codemirror_mode": {
        "name": "ipython",
        "version": 3
      },
      "file_extension": ".py",
      "mimetype": "text/x-python",
      "name": "python",
      "nbconvert_exporter": "python",
      "pygments_lexer": "ipython3",
      "version": "3.12.1"
    },
    "colab": {
      "provenance": [],
      "include_colab_link": true
    }
  },
  "nbformat": 4,
  "nbformat_minor": 5
}