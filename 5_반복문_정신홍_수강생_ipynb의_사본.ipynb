{
  "cells": [
    {
      "cell_type": "markdown",
      "metadata": {
        "id": "view-in-github",
        "colab_type": "text"
      },
      "source": [
        "<a href=\"https://colab.research.google.com/github/nongsi1136/zerobase_python/blob/main/5_%EB%B0%98%EB%B3%B5%EB%AC%B8_%EC%A0%95%EC%8B%A0%ED%99%8D_%EC%88%98%EA%B0%95%EC%83%9D_ipynb%EC%9D%98_%EC%82%AC%EB%B3%B8.ipynb\" target=\"_parent\"><img src=\"https://colab.research.google.com/assets/colab-badge.svg\" alt=\"Open In Colab\"/></a>"
      ]
    },
    {
      "cell_type": "markdown",
      "id": "854b93dc-91f9-421f-abdb-ba1d438c35ae",
      "metadata": {
        "id": "854b93dc-91f9-421f-abdb-ba1d438c35ae"
      },
      "source": [
        "## 문제 1. range 함수를 이용하여 5부터 15까지의 숫자를 출력하는 코드를 작성하세요."
      ]
    },
    {
      "cell_type": "code",
      "execution_count": 1,
      "id": "0291a56b-e121-48c4-a25c-f843347230ae",
      "metadata": {
        "id": "0291a56b-e121-48c4-a25c-f843347230ae",
        "colab": {
          "base_uri": "https://localhost:8080/"
        },
        "outputId": "ae4765c0-784e-4fe3-86e3-b55d935ffa1d"
      },
      "outputs": [
        {
          "output_type": "stream",
          "name": "stdout",
          "text": [
            "5\n",
            "6\n",
            "7\n",
            "8\n",
            "9\n",
            "10\n",
            "11\n",
            "12\n",
            "13\n",
            "14\n",
            "15\n"
          ]
        }
      ],
      "source": [
        "for i in range(5,16):\n",
        "  print(i)"
      ]
    },
    {
      "cell_type": "markdown",
      "id": "e6e3e2d2-5d69-4fca-b944-6c39c0ad6ec8",
      "metadata": {
        "id": "e6e3e2d2-5d69-4fca-b944-6c39c0ad6ec8"
      },
      "source": [
        "## 문제 2. 1부터 100까지의 숫자 가운데 3의 배수이면서 5의 배수가 아닌 숫자만 리스트에 저장하세요."
      ]
    },
    {
      "cell_type": "code",
      "execution_count": 12,
      "id": "d7e253e6-7301-4cb5-9613-1d376e450867",
      "metadata": {
        "id": "d7e253e6-7301-4cb5-9613-1d376e450867",
        "colab": {
          "base_uri": "https://localhost:8080/"
        },
        "outputId": "9b4b0ce4-f09c-4fa1-9cb7-9615f2320999"
      },
      "outputs": [
        {
          "output_type": "stream",
          "name": "stdout",
          "text": [
            "[3, 6, 9, 12, 18, 21, 24, 27, 33, 36, 39, 42, 48, 51, 54, 57, 63, 66, 69, 72, 78, 81, 84, 87, 93, 96, 99]\n"
          ]
        }
      ],
      "source": [
        "L = []\n",
        "for i in range(1,101):\n",
        "  if i % 3 == 0 and i % 5 != 0:\n",
        "    L.append(i)\n",
        "print(L)"
      ]
    },
    {
      "cell_type": "code",
      "source": [],
      "metadata": {
        "id": "XuH1agMx5f26"
      },
      "id": "XuH1agMx5f26",
      "execution_count": null,
      "outputs": []
    },
    {
      "cell_type": "markdown",
      "id": "113e2860-183c-44ee-829d-f0881a629702",
      "metadata": {
        "id": "113e2860-183c-44ee-829d-f0881a629702"
      },
      "source": [
        "## 문제 3. 다음 2차원 리스트에서 두 번째 열에 있는 값을 하나의 리스트에 저장하는 코드를 작성하세요. 즉, 그 결과는 [2, 5, 8]이 되어야 합니다.\n",
        "리스트: [[1, 2, 3], [4, 5, 6], [7, 8, 9]]"
      ]
    },
    {
      "cell_type": "code",
      "execution_count": 9,
      "id": "10f4f5d9-eb18-4297-880d-adf806926b7d",
      "metadata": {
        "id": "10f4f5d9-eb18-4297-880d-adf806926b7d",
        "colab": {
          "base_uri": "https://localhost:8080/"
        },
        "outputId": "32880521-469b-4ec1-ade4-fd353ca2e58b"
      },
      "outputs": [
        {
          "output_type": "stream",
          "name": "stdout",
          "text": [
            "[2, 5, 8]\n"
          ]
        }
      ],
      "source": [
        "data = [[1, 2, 3], [4, 5, 6], [7, 8, 9]]\n",
        "second_column = []\n",
        "\n",
        "for row in data:\n",
        "  second_column.append(row[1])\n",
        "\n",
        "print(second_column)\n"
      ]
    },
    {
      "cell_type": "markdown",
      "id": "a529ab80-120c-4a08-b246-e61f9e71c380",
      "metadata": {
        "id": "a529ab80-120c-4a08-b246-e61f9e71c380"
      },
      "source": [
        "## 문제 4. 1부터 15까지의 숫자 중 짝수만 포함하는 리스트를 생성하여 출력하는 코드를 작성하세요."
      ]
    },
    {
      "cell_type": "code",
      "execution_count": 11,
      "id": "cb37f378-f8f3-41cc-a2c0-0e654fd2e1c3",
      "metadata": {
        "id": "cb37f378-f8f3-41cc-a2c0-0e654fd2e1c3",
        "colab": {
          "base_uri": "https://localhost:8080/"
        },
        "outputId": "8db71a2f-29b9-420b-c8e9-71c449d81462"
      },
      "outputs": [
        {
          "output_type": "stream",
          "name": "stdout",
          "text": [
            "[2, 4, 6, 8, 10, 12, 14]\n"
          ]
        }
      ],
      "source": [
        "even = []\n",
        "for i in range(1,16):\n",
        "     if i % 2 == 0:\n",
        "        even.append(i)\n",
        "print(even)"
      ]
    },
    {
      "cell_type": "markdown",
      "id": "106c3e16-7b64-481e-baea-c40ab3ccfe04",
      "metadata": {
        "id": "106c3e16-7b64-481e-baea-c40ab3ccfe04"
      },
      "source": [
        "## 문제 5. 사용자로부터 숫자 n을 입력받고, 입력한 숫자까지 1씩 증가하면서 출력하는 코드를 작성하세요."
      ]
    },
    {
      "cell_type": "code",
      "execution_count": 15,
      "id": "25e0be61-d1c4-422c-a9fd-d306a300e6c5",
      "metadata": {
        "id": "25e0be61-d1c4-422c-a9fd-d306a300e6c5",
        "outputId": "a40ada58-b2e2-4c78-9e6a-339b72a7e8f0",
        "colab": {
          "base_uri": "https://localhost:8080/"
        }
      },
      "outputs": [
        {
          "output_type": "stream",
          "name": "stdout",
          "text": [
            "값을 입력하세요:5\n",
            "1\n",
            "2\n",
            "3\n",
            "4\n",
            "5\n"
          ]
        }
      ],
      "source": [
        "n = int(input('값을 입력하세요:'))\n",
        "\n",
        "for i in range(1, n+1):\n",
        "  print(i)"
      ]
    },
    {
      "cell_type": "code",
      "execution_count": null,
      "id": "ddffe062-2fe2-422c-8e4e-00e52eef94db",
      "metadata": {
        "id": "ddffe062-2fe2-422c-8e4e-00e52eef94db"
      },
      "outputs": [],
      "source": []
    },
    {
      "cell_type": "markdown",
      "id": "29336dbe-9162-4299-bb67-e45293c2c0ba",
      "metadata": {
        "id": "29336dbe-9162-4299-bb67-e45293c2c0ba"
      },
      "source": [
        "## 문제 6. 사용자가 \"그만\"을 입력하기 전까지 사용자가 입력한 값을 리스트에 저장하는 코드를 작성하세요."
      ]
    },
    {
      "cell_type": "code",
      "execution_count": 14,
      "id": "066ea3d6-5d8d-461c-b13c-c13800ce9283",
      "metadata": {
        "id": "066ea3d6-5d8d-461c-b13c-c13800ce9283",
        "colab": {
          "base_uri": "https://localhost:8080/"
        },
        "outputId": "a8b5dec5-ba7d-4256-8adf-a6e65e007dfe"
      },
      "outputs": [
        {
          "name": "stdout",
          "output_type": "stream",
          "text": [
            "명령을 입력하세요 ('그만' 입력 시 종료): 안뇽\n",
            "입력한 명령: 안뇽\n",
            "명령을 입력하세요 ('그만' 입력 시 종료): 저장된건가\n",
            "입력한 명령: 저장된건가\n",
            "명령을 입력하세요 ('그만' 입력 시 종료): 해해\n",
            "입력한 명령: 해해\n",
            "명령을 입력하세요 ('그만' 입력 시 종료): 졸려죽어\n",
            "입력한 명령: 졸려죽어\n",
            "명령을 입력하세요 ('그만' 입력 시 종료): 그만\n"
          ]
        }
      ],
      "source": [
        "while True:\n",
        "  command = input(\"명령을 입력하세요 ('그만' 입력 시 종료): \")\n",
        "  if command == \"그만\":\n",
        "    break\n",
        "  else:\n",
        "    print(f\"입력한 명령: {command}\")"
      ]
    },
    {
      "cell_type": "markdown",
      "source": [
        "아"
      ],
      "metadata": {
        "id": "1hanCgcP99AR"
      },
      "id": "1hanCgcP99AR"
    },
    {
      "cell_type": "code",
      "execution_count": null,
      "id": "3b89ead3-9c05-433a-b66f-f59cb67623f4",
      "metadata": {
        "id": "3b89ead3-9c05-433a-b66f-f59cb67623f4"
      },
      "outputs": [],
      "source": []
    }
  ],
  "metadata": {
    "kernelspec": {
      "display_name": "Python 3 (ipykernel)",
      "language": "python",
      "name": "python3"
    },
    "language_info": {
      "codemirror_mode": {
        "name": "ipython",
        "version": 3
      },
      "file_extension": ".py",
      "mimetype": "text/x-python",
      "name": "python",
      "nbconvert_exporter": "python",
      "pygments_lexer": "ipython3",
      "version": "3.10.11"
    },
    "colab": {
      "provenance": [],
      "include_colab_link": true
    }
  },
  "nbformat": 4,
  "nbformat_minor": 5
}