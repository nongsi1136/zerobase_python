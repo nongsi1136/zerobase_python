{
  "cells": [
    {
      "cell_type": "markdown",
      "metadata": {
        "id": "view-in-github",
        "colab_type": "text"
      },
      "source": [
        "<a href=\"https://colab.research.google.com/github/nongsi1136/zerobase_python/blob/main/4_%EC%A1%B0%EA%B1%B4%EB%AC%B8_%EC%A0%95%EC%8B%A0%ED%99%8D_%EC%88%98%EA%B0%95%EC%83%9D_ipynb%EC%9D%98_%EC%82%AC%EB%B3%B8.ipynb\" target=\"_parent\"><img src=\"https://colab.research.google.com/assets/colab-badge.svg\" alt=\"Open In Colab\"/></a>"
      ]
    },
    {
      "cell_type": "markdown",
      "id": "4cc6ff3e-52ce-4da2-9343-94c3c04bd4ec",
      "metadata": {
        "id": "4cc6ff3e-52ce-4da2-9343-94c3c04bd4ec"
      },
      "source": [
        "## 문제 1. text = \"I love programming\"에 대해 다음을 만족하는 코드를 작성하세요.\n",
        "- \"love\"가 포함되어 있으면 \"사랑이라는 단어가 포함되어 있습니다.\"를 출력하세요.\n",
        "- \"programming\"가 포함되어 있으면 \"프로그래밍이라는 단어가 포함되어 있습니다.\"를 출력하세요."
      ]
    },
    {
      "cell_type": "code",
      "execution_count": null,
      "id": "eefce2c3-9b6e-444f-b349-f867badabb83",
      "metadata": {
        "id": "eefce2c3-9b6e-444f-b349-f867badabb83",
        "colab": {
          "base_uri": "https://localhost:8080/"
        },
        "outputId": "3e4b342e-e536-4e8a-f87f-f9c5b719c79a"
      },
      "outputs": [
        {
          "output_type": "stream",
          "name": "stdout",
          "text": [
            "사랑이라는 단어가 포함되어 있습니다.\n",
            "프로그래밍이라는 단어가 포함되어 있습니다.\n"
          ]
        }
      ],
      "source": [
        "text = \"I love programming\"\n",
        "if \"love\" in text:\n",
        "  print(\"사랑이라는 단어가 포함되어 있습니다.\")\n",
        "\n",
        "if \"programming\" in text:\n",
        "  print(\"프로그래밍이라는 단어가 포함되어 있습니다.\")"
      ]
    },
    {
      "cell_type": "markdown",
      "source": [],
      "metadata": {
        "id": "ETgtN7MvWSZi"
      },
      "id": "ETgtN7MvWSZi"
    },
    {
      "cell_type": "markdown",
      "id": "7c4cde5b-958d-448b-af60-8d1f817bc582",
      "metadata": {
        "id": "7c4cde5b-958d-448b-af60-8d1f817bc582"
      },
      "source": [
        "## 문제 2. 다음을 만족하는 조건문을 작성하세요.\n",
        "- 변수 score = 85가 90 이상이면 \"우수\"를 출력하세요.\n",
        "- 60 이상이고 90 미만이면 \"보통\"을 출력하세요.\n",
        "- 그렇지 않으면 \"미달\"을 출력하세요."
      ]
    },
    {
      "cell_type": "code",
      "execution_count": null,
      "id": "e2668579-806b-4675-bd0b-4fd85d7133c4",
      "metadata": {
        "id": "e2668579-806b-4675-bd0b-4fd85d7133c4",
        "colab": {
          "base_uri": "https://localhost:8080/"
        },
        "outputId": "f0d0192c-7815-4a4e-a94a-5f8867c4faab"
      },
      "outputs": [
        {
          "output_type": "stream",
          "name": "stdout",
          "text": [
            "보통\n"
          ]
        }
      ],
      "source": [
        "score = 85\n",
        "\n",
        "if score >= 90:\n",
        "    print(\"우수\")\n",
        "elif 60 <= score < 90:\n",
        "    print(\"보통\")\n",
        "else:\n",
        "    print(\"미달\")"
      ]
    },
    {
      "cell_type": "markdown",
      "id": "e51c663a-217f-4168-afc4-84323a76466e",
      "metadata": {
        "id": "e51c663a-217f-4168-afc4-84323a76466e"
      },
      "source": [
        "## 문제 3. 변수 food에 저장된 값에 따라 다음 조건을 만족하는 메시지를 출력하세요.\n",
        "- food가 \"pizza\"라면 \"영화를 추천합니다.\"를 출력하세요.\n",
        "- food가 \"ice cream\"이라면 \"공원을 추천합니다.\"를 출력하세요.\n",
        "- food가 \"coffee\"라면 \"카페에서 독서를 추천합니다.\"를 출력하세요.\n",
        "- 위 조건에 해당하지 않는 경우 \"추천 활동이 없습니다.\"를 출력하세요."
      ]
    },
    {
      "cell_type": "code",
      "execution_count": null,
      "id": "ffd8714d-8ed1-4a2c-aeb8-203582da594f",
      "metadata": {
        "id": "ffd8714d-8ed1-4a2c-aeb8-203582da594f",
        "colab": {
          "base_uri": "https://localhost:8080/"
        },
        "outputId": "7cc6d5d3-4a9f-401e-c7ed-215628b9f623"
      },
      "outputs": [
        {
          "output_type": "stream",
          "name": "stdout",
          "text": [
            "공원을 추천합니다.\n"
          ]
        }
      ],
      "source": [
        "food = \"ice cream\"\n",
        "\n",
        "if food == \"pizza\":\n",
        "  print(\"영화를 추천합니다.\")\n",
        "\n",
        "elif food == \"ice cream\":\n",
        "  print(\"공원을 추천합니다.\")\n",
        "\n",
        "elif food == \"coffee\":\n",
        "  print(\"카페에서 독서를 추천합니다.\")\n",
        "\n",
        "else:\n",
        "  print(\"추천 활동이 없습니다.\")\n"
      ]
    },
    {
      "cell_type": "code",
      "execution_count": null,
      "id": "668e2025-01fd-471e-be30-5394fb0c6587",
      "metadata": {
        "id": "668e2025-01fd-471e-be30-5394fb0c6587",
        "colab": {
          "base_uri": "https://localhost:8080/"
        },
        "outputId": "15fe319d-e884-4523-9869-21c7d14b53b7"
      },
      "outputs": [
        {
          "output_type": "stream",
          "name": "stdout",
          "text": [
            "공원을 추천합니다.\n"
          ]
        }
      ],
      "source": [
        "food = \"ice cream\"\n",
        "\n",
        "if food in [\"pizza\", \"ice cream\", \"coffee\"]:\n",
        "    activities = {\n",
        "        \"pizza\": \"영화를 추천합니다.\",\n",
        "        \"ice cream\": \"공원을 추천합니다.\",\n",
        "        \"coffee\": \"카페에서 독서를 추천합니다.\"\n",
        "    }\n",
        "    print(activities[food])\n",
        "else:\n",
        "    print(\"추천 활동이 없습니다.\")"
      ]
    }
  ],
  "metadata": {
    "kernelspec": {
      "display_name": "Python 3 (ipykernel)",
      "language": "python",
      "name": "python3"
    },
    "language_info": {
      "codemirror_mode": {
        "name": "ipython",
        "version": 3
      },
      "file_extension": ".py",
      "mimetype": "text/x-python",
      "name": "python",
      "nbconvert_exporter": "python",
      "pygments_lexer": "ipython3",
      "version": "3.10.11"
    },
    "colab": {
      "provenance": [],
      "include_colab_link": true
    }
  },
  "nbformat": 4,
  "nbformat_minor": 5
}