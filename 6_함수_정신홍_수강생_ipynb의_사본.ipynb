{
  "cells": [
    {
      "cell_type": "markdown",
      "metadata": {
        "id": "view-in-github",
        "colab_type": "text"
      },
      "source": [
        "<a href=\"https://colab.research.google.com/github/nongsi1136/zerobase_python/blob/main/6_%ED%95%A8%EC%88%98_%EC%A0%95%EC%8B%A0%ED%99%8D_%EC%88%98%EA%B0%95%EC%83%9D_ipynb%EC%9D%98_%EC%82%AC%EB%B3%B8.ipynb\" target=\"_parent\"><img src=\"https://colab.research.google.com/assets/colab-badge.svg\" alt=\"Open In Colab\"/></a>"
      ]
    },
    {
      "cell_type": "markdown",
      "id": "3f8da0fc-a943-4bcd-bd3e-1f1ec164e4f2",
      "metadata": {
        "id": "3f8da0fc-a943-4bcd-bd3e-1f1ec164e4f2"
      },
      "source": [
        "## 문제 1. 두 숫자를 입력받아 첫 번째 숫자를 두 번째 숫자로 나누는 함수를 작성하세요. 단, 두 번째 숫자가 0일 경우 \"0으로 나눌 수 없습니다.\"를 출력하도록 합니다. 함수 이름은 divide_numbers로 하고, 두 숫자를 매개변수로 받아 결과를 출력하거나 오류 메시지를 출력하세요."
      ]
    },
    {
      "cell_type": "code",
      "execution_count": null,
      "id": "7d2cf385-f6c9-4cb7-b326-d37b9cc85900",
      "metadata": {
        "id": "7d2cf385-f6c9-4cb7-b326-d37b9cc85900",
        "colab": {
          "base_uri": "https://localhost:8080/"
        },
        "outputId": "8d4a2f3f-cf35-42f8-fd1e-a182484936b5"
      },
      "outputs": [
        {
          "output_type": "stream",
          "name": "stdout",
          "text": [
            "5.0\n",
            "0으로 나눌 수 없습니다.\n",
            "4.0\n",
            "88.0\n"
          ]
        }
      ],
      "source": [
        "def divide_numbers(a,b):\n",
        "  if b == 0:\n",
        "    print(\"0으로 나눌 수 없습니다.\")\n",
        "  else:\n",
        "    print(a/b)\n",
        "\n",
        "divide_numbers(10,2)\n",
        "divide_numbers(13,0)\n",
        "divide_numbers(8,2)\n",
        "divide_numbers(176,2)"
      ]
    },
    {
      "cell_type": "markdown",
      "id": "2fcb2a6e-ddbc-4bb0-9deb-6f6fafe76a70",
      "metadata": {
        "id": "2fcb2a6e-ddbc-4bb0-9deb-6f6fafe76a70"
      },
      "source": [
        "## 문제 2. 자연수인 숫자를 입력받으면 1부터 그 숫자까지 합을 반환하는 함수를 작성하세요. 자연수가 아닌 숫자가 들어오면 0을 반환하세요."
      ]
    },
    {
      "cell_type": "code",
      "execution_count": null,
      "id": "86f0cb6b-58d9-45f1-9e0d-934644377582",
      "metadata": {
        "id": "86f0cb6b-58d9-45f1-9e0d-934644377582",
        "colab": {
          "base_uri": "https://localhost:8080/"
        },
        "outputId": "6c95158b-c791-4bcd-eeb2-7e5cf51c4e1d"
      },
      "outputs": [
        {
          "output_type": "stream",
          "name": "stdout",
          "text": [
            "55\n",
            "0\n",
            "0\n",
            "0\n"
          ]
        }
      ],
      "source": [
        "def sumnumber(a):\n",
        "  if isinstance(a, int) and a > 0:\n",
        "    sum = 0\n",
        "    for i in range(1,a+1): #1부터 a까지 반복\n",
        "      sum += i # sum = sum + i (현재 i를 sum에 더함)\n",
        "    return sum  # 최종적으로 합을 반환\n",
        "  else:\n",
        "    return 0\n",
        "\n",
        "print(sumnumber(10))\n",
        "print(sumnumber(-5))\n",
        "print(sumnumber(5.5))\n",
        "print(sumnumber(\"10\"))"
      ]
    },
    {
      "cell_type": "markdown",
      "id": "56074112-309c-4d0e-99f0-b265fc7507f7",
      "metadata": {
        "id": "56074112-309c-4d0e-99f0-b265fc7507f7"
      },
      "source": [
        "## 문제 3. calculate_tax라는 함수를 작성하세요. 이 함수는 가격과 세율을 받아 세금을 계산합니다. 세율이 제공되지 않으면 기본값으로 10%가 적용되도록 합니다."
      ]
    },
    {
      "cell_type": "code",
      "execution_count": null,
      "id": "c01f18e7-11a1-4120-8536-b3f20bd9b6cf",
      "metadata": {
        "id": "c01f18e7-11a1-4120-8536-b3f20bd9b6cf",
        "colab": {
          "base_uri": "https://localhost:8080/"
        },
        "outputId": "36d2122b-3ec1-4bb7-effb-967d081f91fc"
      },
      "outputs": [
        {
          "output_type": "stream",
          "name": "stdout",
          "text": [
            "10000.0\n",
            "35000.0\n"
          ]
        }
      ],
      "source": [
        "def calculate_tax(price, rate=0.1):\n",
        "  tax = price * rate\n",
        "  return tax\n",
        "\n",
        "\n",
        "price = 100000\n",
        "print(calculate_tax(price))\n",
        "print(calculate_tax(price,0.35))"
      ]
    },
    {
      "cell_type": "markdown",
      "id": "034b80de-3f82-4989-ba61-5679a6703af8",
      "metadata": {
        "id": "034b80de-3f82-4989-ba61-5679a6703af8"
      },
      "source": [
        "## 문제 4. 두 수를 받아 합을 반환하는 람다 함수를 작성하세요."
      ]
    },
    {
      "cell_type": "code",
      "execution_count": null,
      "id": "0d16b3f0-f271-4ee8-8bc1-d46d29491928",
      "metadata": {
        "id": "0d16b3f0-f271-4ee8-8bc1-d46d29491928",
        "colab": {
          "base_uri": "https://localhost:8080/"
        },
        "outputId": "d87e4ac4-a437-43ad-9a30-e884394a110d"
      },
      "outputs": [
        {
          "output_type": "stream",
          "name": "stdout",
          "text": [
            "7\n"
          ]
        }
      ],
      "source": [
        "add_lambda = lambda a, b: a + b\n",
        "\n",
        "print(add_lambda(3, 4))"
      ]
    },
    {
      "cell_type": "markdown",
      "id": "cbc243b4-3eda-4f0b-825c-3bf5d309eb46",
      "metadata": {
        "id": "cbc243b4-3eda-4f0b-825c-3bf5d309eb46"
      },
      "source": [
        "## 문제 5. 리스트의 모든 요소에 10을 더하는 람다 함수를 작성하고, map을 사용하여 각 원소에 10을 더하세요."
      ]
    },
    {
      "cell_type": "code",
      "execution_count": null,
      "id": "5cf7fe16-b6cc-47cd-9139-a442e62b6e98",
      "metadata": {
        "id": "5cf7fe16-b6cc-47cd-9139-a442e62b6e98",
        "colab": {
          "base_uri": "https://localhost:8080/"
        },
        "outputId": "99d3969f-fbd4-4d2b-8773-7986bf1ad45c"
      },
      "outputs": [
        {
          "output_type": "stream",
          "name": "stdout",
          "text": [
            "[11, 12, 13, 14, 15]\n"
          ]
        }
      ],
      "source": [
        "numbers = [1, 2, 3, 4, 5]\n",
        "\n",
        "add_10 = lambda x: x + 10\n",
        "\n",
        "result = list(map(add_10, numbers))\n",
        "\n",
        "print(result)"
      ]
    },
    {
      "cell_type": "markdown",
      "id": "8932caba-3a04-45f7-8bce-6813d35c76b0",
      "metadata": {
        "id": "8932caba-3a04-45f7-8bce-6813d35c76b0"
      },
      "source": [
        "## 문제 6. ['apple', 'banana', 'cherry']를 a의 개수를 기준으로 정렬하세요."
      ]
    },
    {
      "cell_type": "code",
      "execution_count": null,
      "id": "d372e8a9-8f52-49fc-8086-e8e97061fcee",
      "metadata": {
        "id": "d372e8a9-8f52-49fc-8086-e8e97061fcee",
        "colab": {
          "base_uri": "https://localhost:8080/"
        },
        "outputId": "8a1b2ab0-8985-4965-dd12-6ef35271e197"
      },
      "outputs": [
        {
          "output_type": "stream",
          "name": "stdout",
          "text": [
            "['cherry', 'apple', 'banana']\n"
          ]
        }
      ],
      "source": [
        "fruits = ['apple', 'banana', 'cherry']\n",
        "sorted_fruits = sorted(fruits, key=lambda word :word.count('a'))\n",
        "print(sorted_fruits)"
      ]
    }
  ],
  "metadata": {
    "kernelspec": {
      "display_name": "Python 3 (ipykernel)",
      "language": "python",
      "name": "python3"
    },
    "language_info": {
      "codemirror_mode": {
        "name": "ipython",
        "version": 3
      },
      "file_extension": ".py",
      "mimetype": "text/x-python",
      "name": "python",
      "nbconvert_exporter": "python",
      "pygments_lexer": "ipython3",
      "version": "3.10.11"
    },
    "colab": {
      "provenance": [],
      "include_colab_link": true
    }
  },
  "nbformat": 4,
  "nbformat_minor": 5
}