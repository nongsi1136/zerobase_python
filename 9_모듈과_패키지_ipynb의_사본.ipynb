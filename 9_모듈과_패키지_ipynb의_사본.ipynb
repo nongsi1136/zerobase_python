{
  "cells": [
    {
      "cell_type": "markdown",
      "metadata": {
        "id": "view-in-github",
        "colab_type": "text"
      },
      "source": [
        "<a href=\"https://colab.research.google.com/github/nongsi1136/zerobase_python/blob/main/9_%EB%AA%A8%EB%93%88%EA%B3%BC_%ED%8C%A8%ED%82%A4%EC%A7%80_ipynb%EC%9D%98_%EC%82%AC%EB%B3%B8.ipynb\" target=\"_parent\"><img src=\"https://colab.research.google.com/assets/colab-badge.svg\" alt=\"Open In Colab\"/></a>"
      ]
    },
    {
      "cell_type": "markdown",
      "id": "901a9ef4-fb00-4c8f-9da1-580aaac31500",
      "metadata": {
        "id": "901a9ef4-fb00-4c8f-9da1-580aaac31500"
      },
      "source": [
        "## 문제 1. 원의 반지름이 주어졌을 때 원의 면적을 계산하는 함수를 작성하세요."
      ]
    },
    {
      "cell_type": "code",
      "execution_count": 2,
      "id": "36edf389-3218-43dc-a814-3ec76a76a0c6",
      "metadata": {
        "id": "36edf389-3218-43dc-a814-3ec76a76a0c6",
        "colab": {
          "base_uri": "https://localhost:8080/"
        },
        "outputId": "159439a9-c26e-4814-edcb-5cce0c9aec31"
      },
      "outputs": [
        {
          "output_type": "stream",
          "name": "stdout",
          "text": [
            "반지름이 5인 원의 면적: 78.53981633974483\n"
          ]
        }
      ],
      "source": [
        "from math import pi\n",
        "def circle_area(radius):\n",
        "    return pi * radius ** 2\n",
        "\n",
        "r = 5\n",
        "print(f\"반지름이 {r}인 원의 면적: {circle_area(r)}\")"
      ]
    },
    {
      "cell_type": "markdown",
      "id": "8324c845-1a78-402b-8638-d1c726b6402b",
      "metadata": {
        "id": "8324c845-1a78-402b-8638-d1c726b6402b"
      },
      "source": [
        "## 문제 2. 오늘 날짜와 미래 날짜를 입력했을 때, 미래 날짜까지 며칠 남았는지를 반환하는 D-day 계산 함수를 작성하세요."
      ]
    },
    {
      "cell_type": "code",
      "execution_count": 14,
      "id": "3fab7973-436d-4daa-8825-89c0bb806295",
      "metadata": {
        "id": "3fab7973-436d-4daa-8825-89c0bb806295",
        "colab": {
          "base_uri": "https://localhost:8080/"
        },
        "outputId": "40d5358c-2dc4-4b45-b278-5da663247edf"
      },
      "outputs": [
        {
          "output_type": "stream",
          "name": "stdout",
          "text": [
            "D-day: 125일 남았습니다.\n"
          ]
        }
      ],
      "source": [
        "from datetime import datetime\n",
        "\n",
        "def d_day_calculator(future_date):\n",
        "\n",
        "  today = datetime.today().date()\n",
        "\n",
        "  future_date = datetime.strptime(future_date, \"%Y-%m-%d\").date()\n",
        "\n",
        "  days_left = (future_date - today).days\n",
        "\n",
        "  return days_left\n",
        "\n",
        "future =  \"2025-07-14\"\n",
        "print(f\"D-day: {d_day_calculator(future)}일 남았습니다.\")"
      ]
    },
    {
      "cell_type": "markdown",
      "id": "c596fb65-95c7-4050-a7db-dc957510bc0b",
      "metadata": {
        "id": "c596fb65-95c7-4050-a7db-dc957510bc0b"
      },
      "source": [
        "## 문제 3. 1부터 10까지 쓰여있는 10장의 카드에서 3장을 임의로 선택했을 때, 3장의 합이 3의 배수일 확률을 구하세요."
      ]
    },
    {
      "cell_type": "markdown",
      "source": [],
      "metadata": {
        "id": "kKpMfn-0dk-r"
      },
      "id": "kKpMfn-0dk-r"
    },
    {
      "cell_type": "code",
      "execution_count": 15,
      "id": "194847b9-e2f3-4717-84e7-6f1933597a53",
      "metadata": {
        "id": "194847b9-e2f3-4717-84e7-6f1933597a53",
        "colab": {
          "base_uri": "https://localhost:8080/"
        },
        "outputId": "0a0949df-1711-44c0-a4a6-4f8fd7f9da83"
      },
      "outputs": [
        {
          "output_type": "stream",
          "name": "stdout",
          "text": [
            "3장의 합이 3의 배수일 확률: 35.00%\n"
          ]
        }
      ],
      "source": [
        "from itertools import combinations\n",
        "\n",
        "cards = list(range(1,11))\n",
        "\n",
        "all_combinations = list(combinations(cards,3))\n",
        "\n",
        "conunt_multiple_of_3 = sum(1 for combo in all_combinations if sum(combo)% 3 == 0)\n",
        "\n",
        "total_cases = len(all_combinations)\n",
        "\n",
        "probability = conunt_multiple_of_3 / total_cases\n",
        "\n",
        "print(f\"3장의 합이 3의 배수일 확률: {probability * 100:.2f}%\")"
      ]
    },
    {
      "cell_type": "markdown",
      "id": "25ac02ea-37ad-496f-8e3a-f7bc871ef434",
      "metadata": {
        "id": "25ac02ea-37ad-496f-8e3a-f7bc871ef434"
      },
      "source": [
        "## 문제 4. 로또 번호를 추출하는 함수를 작성하세요. 로또 번호는 1부터 45까지 숫자중 6개를 선택해야 합니다."
      ]
    },
    {
      "cell_type": "code",
      "execution_count": 18,
      "id": "0af7de7a-cd2f-48ce-a892-4a4d5fc68a6a",
      "metadata": {
        "id": "0af7de7a-cd2f-48ce-a892-4a4d5fc68a6a",
        "colab": {
          "base_uri": "https://localhost:8080/"
        },
        "outputId": "e267dece-6a4f-4c0b-aaf7-1ebc33186d0e"
      },
      "outputs": [
        {
          "output_type": "stream",
          "name": "stdout",
          "text": [
            "이번 주 로또 번호: [1, 2, 6, 9, 21, 23]\n"
          ]
        }
      ],
      "source": [
        "import random\n",
        "\n",
        "def generate_lotto():\n",
        "    return sorted(random.sample(range(1, 46), 6))  # 1~45 중 6개 랜덤 선택 후 정렬\n",
        "\n",
        "# 테스트 실행\n",
        "print(f\"이번 주 로또 번호: {generate_lotto()}\")"
      ]
    },
    {
      "cell_type": "markdown",
      "id": "5bf17844-b87a-432a-bb73-4d6ff179c121",
      "metadata": {
        "id": "5bf17844-b87a-432a-bb73-4d6ff179c121"
      },
      "source": [
        "## 문제 5. 5개의 숫자 1,2,3,4,5와 4개의 문자 M,A,T,H를 일렬로 나열할 때, M,1,2,A,3,T,4,H,5처럼 1,2,3,4,5와 M,A,T,H의 순서는 유지되는 경우의 수는 몇 개인지 계산하는 코드를 작성하세요."
      ]
    },
    {
      "cell_type": "code",
      "execution_count": 21,
      "id": "4b589f3f-2d50-4b5a-9570-b9a1523c7855",
      "metadata": {
        "id": "4b589f3f-2d50-4b5a-9570-b9a1523c7855",
        "colab": {
          "base_uri": "https://localhost:8080/"
        },
        "outputId": "1acee475-dc0d-4ac6-808c-3d28d0874d34"
      },
      "outputs": [
        {
          "output_type": "stream",
          "name": "stdout",
          "text": [
            "가능한 경우의 수: 126\n"
          ]
        }
      ],
      "source": [
        "import math\n",
        "\n",
        "ways = math.comb(9, 5)\n",
        "\n",
        "print(f\"가능한 경우의 수: {ways}\")"
      ]
    }
  ],
  "metadata": {
    "kernelspec": {
      "display_name": "Python 3 (ipykernel)",
      "language": "python",
      "name": "python3"
    },
    "language_info": {
      "codemirror_mode": {
        "name": "ipython",
        "version": 3
      },
      "file_extension": ".py",
      "mimetype": "text/x-python",
      "name": "python",
      "nbconvert_exporter": "python",
      "pygments_lexer": "ipython3",
      "version": "3.10.11"
    },
    "colab": {
      "provenance": [],
      "include_colab_link": true
    }
  },
  "nbformat": 4,
  "nbformat_minor": 5
}