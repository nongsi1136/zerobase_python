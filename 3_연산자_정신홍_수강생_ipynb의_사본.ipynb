{
  "cells": [
    {
      "cell_type": "markdown",
      "metadata": {
        "id": "view-in-github",
        "colab_type": "text"
      },
      "source": [
        "<a href=\"https://colab.research.google.com/github/nongsi1136/zerobase_python/blob/main/3_%EC%97%B0%EC%82%B0%EC%9E%90_%EC%A0%95%EC%8B%A0%ED%99%8D_%EC%88%98%EA%B0%95%EC%83%9D_ipynb%EC%9D%98_%EC%82%AC%EB%B3%B8.ipynb\" target=\"_parent\"><img src=\"https://colab.research.google.com/assets/colab-badge.svg\" alt=\"Open In Colab\"/></a>"
      ]
    },
    {
      "cell_type": "markdown",
      "id": "f1e77bf7-c08f-44b5-bcff-a8c75ef98949",
      "metadata": {
        "id": "f1e77bf7-c08f-44b5-bcff-a8c75ef98949"
      },
      "source": [
        "## 문제 1. 두 변수 x = 15와 y = 4를 사용하여 다음 연산을 수행하시오.\n",
        "- 덧셈\n",
        "- 뺄셈\n",
        "- 곱셈\n",
        "- 나눗셈\n",
        "- 몫\n",
        "- 나머지\n",
        "- 거듭제곱"
      ]
    },
    {
      "cell_type": "code",
      "execution_count": null,
      "id": "481202f2-c0dc-4001-b000-ea31a7d3555f",
      "metadata": {
        "id": "481202f2-c0dc-4001-b000-ea31a7d3555f",
        "colab": {
          "base_uri": "https://localhost:8080/"
        },
        "outputId": "f8edda21-148e-47f5-a6df-977751adb278"
      },
      "outputs": [
        {
          "output_type": "stream",
          "name": "stdout",
          "text": [
            "19\n",
            "11\n",
            "60\n",
            "3.75\n",
            "3\n",
            "3\n",
            "50625\n"
          ]
        }
      ],
      "source": [
        " x = 15\n",
        " y = 4\n",
        "\n",
        " print(x + y)\n",
        " print(x - y)\n",
        " print(x * y)\n",
        " print(x / y)\n",
        " print(x // y)\n",
        " print(x % y)\n",
        " print(x ** y)"
      ]
    },
    {
      "cell_type": "markdown",
      "id": "b2f07d9b-48fe-4efa-a6e5-a786f445ed9c",
      "metadata": {
        "id": "b2f07d9b-48fe-4efa-a6e5-a786f445ed9c"
      },
      "source": [
        "## 문제 2. 문자열 \"Python\"을 4번 반복한 결과를 출력하시오."
      ]
    },
    {
      "cell_type": "code",
      "execution_count": null,
      "id": "e3099a57-ffd5-49dc-a035-1d00aa5003df",
      "metadata": {
        "id": "e3099a57-ffd5-49dc-a035-1d00aa5003df",
        "colab": {
          "base_uri": "https://localhost:8080/"
        },
        "outputId": "58e7ebc4-fbe5-4264-8184-d944f98437d4"
      },
      "outputs": [
        {
          "output_type": "stream",
          "name": "stdout",
          "text": [
            "pythonpythonpythonpython\n"
          ]
        }
      ],
      "source": [
        "text = \"python\"\n",
        "print(text * 4)"
      ]
    },
    {
      "cell_type": "code",
      "execution_count": null,
      "id": "15938ffb-77d6-408f-b65e-5d41f7d960fe",
      "metadata": {
        "id": "15938ffb-77d6-408f-b65e-5d41f7d960fe",
        "colab": {
          "base_uri": "https://localhost:8080/"
        },
        "outputId": "58f88c54-7b62-4cdc-f85f-fbb7566f2dfb"
      },
      "outputs": [
        {
          "output_type": "stream",
          "name": "stdout",
          "text": [
            "['python', 'python', 'python', 'python']\n"
          ]
        }
      ],
      "source": [
        "text = [\"python\"] * 4 # 초기화\n",
        "print(text)"
      ]
    },
    {
      "cell_type": "markdown",
      "id": "72a4bf82-2d97-4b1a-bc2b-415b9a558cc8",
      "metadata": {
        "id": "72a4bf82-2d97-4b1a-bc2b-415b9a558cc8"
      },
      "source": [
        "## 문제 3. 변수 x = 8과 y = 15를 사용하여 다음을 비교하시오.\n",
        "- x가 y와 같은지\n",
        "- x가 y와 다른지\n",
        "- x가 y보다 작은지\n",
        "- x가 y보다 크거나 같은지"
      ]
    },
    {
      "cell_type": "code",
      "execution_count": null,
      "id": "e3e2f7dc-5207-45a4-b36f-6a33c1c97e98",
      "metadata": {
        "id": "e3e2f7dc-5207-45a4-b36f-6a33c1c97e98",
        "colab": {
          "base_uri": "https://localhost:8080/"
        },
        "outputId": "196b19f8-b757-4257-e4c3-9fd8b37ad98e"
      },
      "outputs": [
        {
          "output_type": "stream",
          "name": "stdout",
          "text": [
            "False\n",
            "True\n",
            "True\n",
            "False\n"
          ]
        }
      ],
      "source": [
        " x = 8\n",
        " y = 15\n",
        "\n",
        " print (x == y)\n",
        " print (x != y)\n",
        " print (x < y)\n",
        " print (x >= y)"
      ]
    },
    {
      "cell_type": "code",
      "execution_count": null,
      "id": "fa42c1c0-18e1-4e13-b9bf-d231aeef4e64",
      "metadata": {
        "id": "fa42c1c0-18e1-4e13-b9bf-d231aeef4e64"
      },
      "outputs": [],
      "source": []
    },
    {
      "cell_type": "markdown",
      "id": "d8a80388-af06-454d-a648-8647541f1544",
      "metadata": {
        "id": "d8a80388-af06-454d-a648-8647541f1544"
      },
      "source": [
        "## 문제 4. 다음 리스트에서 \"grape\"가 포함되어 있는지 확인하고 결과를 출력하시오.\n",
        "리스트: ['apple', 'banana', 'cherry']"
      ]
    },
    {
      "cell_type": "code",
      "execution_count": null,
      "id": "27062b2a-e573-4d7a-9e16-c43743ea50fa",
      "metadata": {
        "id": "27062b2a-e573-4d7a-9e16-c43743ea50fa",
        "colab": {
          "base_uri": "https://localhost:8080/"
        },
        "outputId": "a035cb80-1d7b-4c2c-f58a-34192e637cf8"
      },
      "outputs": [
        {
          "output_type": "stream",
          "name": "stdout",
          "text": [
            "True\n"
          ]
        }
      ],
      "source": [
        "fruits =  ['apple', 'banana', 'cherry']\n",
        "print(\"grape\" not in fruits)"
      ]
    },
    {
      "cell_type": "markdown",
      "id": "5fad4c60-791a-423b-ad38-6a05898e84c4",
      "metadata": {
        "id": "5fad4c60-791a-423b-ad38-6a05898e84c4"
      },
      "source": [
        "## 문제 5. 변수 x = 8, y = 12에 대해 논리 연산자를 사용하여 평가하고 결과를 출력하시오.\n",
        "- 둘 중 하나라도 10보다 큰 지 확인하세요\n",
        "- 둘 다 10보다 큰 지 확인하세요"
      ]
    },
    {
      "cell_type": "code",
      "execution_count": null,
      "id": "e15f93ab-baeb-4a95-91d3-cefb5a0e3e81",
      "metadata": {
        "id": "e15f93ab-baeb-4a95-91d3-cefb5a0e3e81",
        "colab": {
          "base_uri": "https://localhost:8080/"
        },
        "outputId": "21658599-3b3e-4e6a-8ef8-5ac7db7cd4d0"
      },
      "outputs": [
        {
          "output_type": "stream",
          "name": "stdout",
          "text": [
            "True\n",
            "False\n"
          ]
        }
      ],
      "source": [
        "x = 8\n",
        "y = 12\n",
        "\n",
        "print (x > 10 or y > 10)\n",
        "print(x > 10 and y > 10)"
      ]
    }
  ],
  "metadata": {
    "kernelspec": {
      "display_name": "Python 3 (ipykernel)",
      "language": "python",
      "name": "python3"
    },
    "language_info": {
      "codemirror_mode": {
        "name": "ipython",
        "version": 3
      },
      "file_extension": ".py",
      "mimetype": "text/x-python",
      "name": "python",
      "nbconvert_exporter": "python",
      "pygments_lexer": "ipython3",
      "version": "3.10.11"
    },
    "colab": {
      "provenance": [],
      "include_colab_link": true
    }
  },
  "nbformat": 4,
  "nbformat_minor": 5
}