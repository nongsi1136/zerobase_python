{
  "cells": [
    {
      "cell_type": "markdown",
      "metadata": {
        "id": "view-in-github",
        "colab_type": "text"
      },
      "source": [
        "<a href=\"https://colab.research.google.com/github/nongsi1136/zerobase_python/blob/main/2_%EB%B3%80%EC%88%98%EC%99%80_%EC%9E%90%EB%A3%8C%ED%98%95_%EC%A0%95%EC%8B%A0%ED%99%8D_%EC%88%98%EA%B0%95%EC%83%9D_ipynb%EC%9D%98_%EC%82%AC%EB%B3%B8.ipynb\" target=\"_parent\"><img src=\"https://colab.research.google.com/assets/colab-badge.svg\" alt=\"Open In Colab\"/></a>"
      ]
    },
    {
      "cell_type": "markdown",
      "id": "d53efaaa-f205-4047-a059-68d801ca9b1b",
      "metadata": {
        "id": "d53efaaa-f205-4047-a059-68d801ca9b1b"
      },
      "source": [
        "### 문제 1. name, age, height 변수를 사용하여 아래와 같은 출력이 나오는 코드를 작성하세요.\n",
        "Name: Alice<br>\n",
        "Age: 30<br>\n",
        "Height: 160<br>"
      ]
    },
    {
      "cell_type": "code",
      "execution_count": null,
      "id": "12c3a5b0-e4f0-44aa-bdfb-7406af585160",
      "metadata": {
        "id": "12c3a5b0-e4f0-44aa-bdfb-7406af585160",
        "colab": {
          "base_uri": "https://localhost:8080/"
        },
        "outputId": "05f19156-6002-4505-eb62-06c9c63d4cdb"
      },
      "outputs": [
        {
          "output_type": "stream",
          "name": "stdout",
          "text": [
            "Name: Alice\n",
            "Age: 30\n",
            "Height: 160\n"
          ]
        }
      ],
      "source": [
        "name = \"Alice\"\n",
        "age = 30\n",
        "height = 160\n",
        "\n",
        "print(\"Name:\", name)\n",
        "print(\"Age:\", age)\n",
        "print(\"Height:\", height)"
      ]
    },
    {
      "cell_type": "markdown",
      "id": "0cf192db-9a2d-4d16-9750-bccb45fd95bf",
      "metadata": {
        "id": "0cf192db-9a2d-4d16-9750-bccb45fd95bf"
      },
      "source": [
        "### 문제 2. 문제 1에서 age와 height 변수의 값을 변경한 뒤, 아래와 같은 형식으로 출력하는 코드를 작성하세요:\n",
        "\n",
        "age: 35<br>\n",
        "height: 165"
      ]
    },
    {
      "cell_type": "code",
      "execution_count": null,
      "id": "60a628af-d5b3-49c6-8466-171d7a63e332",
      "metadata": {
        "id": "60a628af-d5b3-49c6-8466-171d7a63e332",
        "colab": {
          "base_uri": "https://localhost:8080/"
        },
        "outputId": "7a9abe03-35d6-4210-b822-77d84a1d36ce"
      },
      "outputs": [
        {
          "output_type": "stream",
          "name": "stdout",
          "text": [
            "age: 35\n",
            "height: 165\n"
          ]
        }
      ],
      "source": [
        "age = 35\n",
        "height = 165\n",
        "\n",
        "print(\"age:\", age)\n",
        "print(\"height:\", height)"
      ]
    },
    {
      "cell_type": "markdown",
      "id": "3dbd6e2d-52c0-4d74-aaa0-5e8446bd604b",
      "metadata": {
        "id": "3dbd6e2d-52c0-4d74-aaa0-5e8446bd604b"
      },
      "source": [
        "### 문제 3. 리스트 my_list = [15, 25, 35, 45, 55]에서 두 번째 요소를 출력하시오."
      ]
    },
    {
      "cell_type": "code",
      "execution_count": null,
      "id": "5597b2ca-6970-43c9-b442-c393e55893cc",
      "metadata": {
        "id": "5597b2ca-6970-43c9-b442-c393e55893cc",
        "colab": {
          "base_uri": "https://localhost:8080/"
        },
        "outputId": "a51050d6-baec-4348-8bf7-ed7764dd3311"
      },
      "outputs": [
        {
          "output_type": "stream",
          "name": "stdout",
          "text": [
            "25\n"
          ]
        }
      ],
      "source": [
        "my_list = [15, 25, 35, 45, 55]\n",
        "\n",
        "print(my_list[1])"
      ]
    },
    {
      "cell_type": "markdown",
      "id": "8cd9a8c4-78ad-4ea0-b665-cfe8acf9b200",
      "metadata": {
        "id": "8cd9a8c4-78ad-4ea0-b665-cfe8acf9b200"
      },
      "source": [
        "### 문제 4. 리스트 my_list = [100, 200, 300, 400, 500]에서 두 번째부터 네 번째 요소까지를 출력하시오."
      ]
    },
    {
      "cell_type": "code",
      "execution_count": null,
      "id": "dcc1e274-e434-4a6a-9d21-a0ad0095ec10",
      "metadata": {
        "id": "dcc1e274-e434-4a6a-9d21-a0ad0095ec10",
        "colab": {
          "base_uri": "https://localhost:8080/"
        },
        "outputId": "11111038-5364-46ee-f65e-3c191bf4aaab"
      },
      "outputs": [
        {
          "output_type": "stream",
          "name": "stdout",
          "text": [
            "[200, 300, 400]\n"
          ]
        }
      ],
      "source": [
        " my_list = [100, 200, 300, 400, 500]\n",
        "\n",
        " print(my_list[1:4])\n"
      ]
    },
    {
      "cell_type": "markdown",
      "id": "a2ab534a-c157-4436-942b-db354fcfa392",
      "metadata": {
        "id": "a2ab534a-c157-4436-942b-db354fcfa392"
      },
      "source": [
        "### 문제 5. 리스트 my_list = [10, 20, 30, 40, 50]에서 세 번째 요소를 99로 변경하고, 변경된 리스트를 출력하시오."
      ]
    },
    {
      "cell_type": "code",
      "execution_count": null,
      "id": "ee3ed3e4-4b19-41aa-a905-c84b97c2b01b",
      "metadata": {
        "id": "ee3ed3e4-4b19-41aa-a905-c84b97c2b01b",
        "colab": {
          "base_uri": "https://localhost:8080/"
        },
        "outputId": "ba016f39-16ab-4018-b7c7-a24762dc1eff"
      },
      "outputs": [
        {
          "output_type": "stream",
          "name": "stdout",
          "text": [
            "[10, 20, 99, 40, 50]\n"
          ]
        }
      ],
      "source": [
        "my_list = [10, 20, 30, 40, 50]\n",
        "\n",
        "my_list[2] = 99\n",
        "print(my_list)"
      ]
    },
    {
      "cell_type": "markdown",
      "id": "728cb4bf-464d-41bd-b0de-0cff43710b66",
      "metadata": {
        "id": "728cb4bf-464d-41bd-b0de-0cff43710b66"
      },
      "source": [
        "### 문제 6. 주어진 문자열 \"Data Science\"와 리스트 [3, 6, 9, 12, 15]의 길이를 각각 구한 후, 두 값의 합을 출력하는 코드를 작성하시오."
      ]
    },
    {
      "cell_type": "markdown",
      "source": [],
      "metadata": {
        "id": "wfaKDCzIZYOj"
      },
      "id": "wfaKDCzIZYOj"
    },
    {
      "cell_type": "markdown",
      "source": [
        "\n",
        "\n",
        "```\n",
        "# 코드로 형식 지정됨\n",
        "text =  \"Data Science\"\n",
        "numbers = [3, 6, 9, 12, 15]\n",
        "\n",
        "text_length = len(text)\n",
        "numbers_length = len(numbers)\n",
        "\n",
        "total_length = text_length + list_length\n",
        "print(total_lenght)\n",
        "```\n",
        "\n",
        "\n",
        "\n"
      ],
      "metadata": {
        "id": "2DKpzQNUZYiy"
      },
      "id": "2DKpzQNUZYiy"
    },
    {
      "cell_type": "markdown",
      "id": "ba31745f-fb61-44f8-81db-f8631abacb1c",
      "metadata": {
        "id": "ba31745f-fb61-44f8-81db-f8631abacb1c"
      },
      "source": [
        "### 문제 7. 다음과 같은 리스트에서 합계를 구하시오.\n",
        "\n",
        "L = [5, 10, 15, 20]"
      ]
    },
    {
      "cell_type": "code",
      "execution_count": null,
      "id": "4bcd7886-a8c6-4812-a9c2-60c2591b68f4",
      "metadata": {
        "id": "4bcd7886-a8c6-4812-a9c2-60c2591b68f4",
        "colab": {
          "base_uri": "https://localhost:8080/"
        },
        "outputId": "f1a4a7e3-113f-4a69-b632-07675fd900a7"
      },
      "outputs": [
        {
          "output_type": "stream",
          "name": "stdout",
          "text": [
            "50\n"
          ]
        }
      ],
      "source": [
        "L = [5, 10, 15, 20]\n",
        "print(sum(L))"
      ]
    },
    {
      "cell_type": "markdown",
      "id": "fbc87e18-907a-4a6d-8a2b-56c5583ba648",
      "metadata": {
        "id": "fbc87e18-907a-4a6d-8a2b-56c5583ba648"
      },
      "source": [
        "### 문제 8. 리스트 [100, 200, 300, 400]에서 최소값과 최대값을 구한 후, 두 값의 합을 출력하는 코드를 작성하시오."
      ]
    },
    {
      "cell_type": "code",
      "execution_count": null,
      "id": "c96a4ad2-4dca-472e-a3c2-8341d53bf784",
      "metadata": {
        "id": "c96a4ad2-4dca-472e-a3c2-8341d53bf784",
        "colab": {
          "base_uri": "https://localhost:8080/"
        },
        "outputId": "6c0d27b1-d5be-4063-dc55-e0c9427dfc76"
      },
      "outputs": [
        {
          "output_type": "stream",
          "name": "stdout",
          "text": [
            "500\n"
          ]
        }
      ],
      "source": [
        "numbers = [100, 200, 300, 400]\n",
        "min_number = min(numbers)\n",
        "max_number = max(numbers)\n",
        "\n",
        "print(min_number + max_number)"
      ]
    },
    {
      "cell_type": "markdown",
      "id": "e5113f84-b1e3-48dc-b6c5-c992f330c5f9",
      "metadata": {
        "id": "e5113f84-b1e3-48dc-b6c5-c992f330c5f9"
      },
      "source": [
        "### 문제 9. 주어진 문자열 \"red,blue,green,yellow\"에서 각 색을 분리하고, 다시 - 기호를 구분자로 하여 문자열을 합치시오."
      ]
    },
    {
      "cell_type": "code",
      "execution_count": null,
      "id": "f673d3cd-89f8-4900-9589-21975c9d4f17",
      "metadata": {
        "id": "f673d3cd-89f8-4900-9589-21975c9d4f17",
        "colab": {
          "base_uri": "https://localhost:8080/"
        },
        "outputId": "3882346d-8364-4de3-8883-a10f51c39869"
      },
      "outputs": [
        {
          "output_type": "stream",
          "name": "stdout",
          "text": [
            "['red', 'blue', 'green', 'yellow']\n",
            "red - blue - green - yellow\n"
          ]
        }
      ],
      "source": [
        "colors = \"red,blue,green,yellow\"\n",
        "color_list = colors.split(\",\")\n",
        "\n",
        "print(color_list)\n",
        "print(\" - \".join(color_list))"
      ]
    },
    {
      "cell_type": "markdown",
      "id": "759e6464-1c94-4b20-af9a-cc847763602f",
      "metadata": {
        "id": "759e6464-1c94-4b20-af9a-cc847763602f"
      },
      "source": [
        "### 문제 10. 다음과 같은 리스트에 \"orange\"를 추가한 후, 리스트를 출력하시오.\n",
        "\n",
        "리스트: [\"dog\", \"cat\", \"bird\"]"
      ]
    },
    {
      "cell_type": "code",
      "execution_count": null,
      "id": "5f70bbc0-0336-4374-9638-78cf67019c45",
      "metadata": {
        "id": "5f70bbc0-0336-4374-9638-78cf67019c45",
        "colab": {
          "base_uri": "https://localhost:8080/"
        },
        "outputId": "54c9ee93-0396-4406-bf19-9abb0eb0a97f"
      },
      "outputs": [
        {
          "output_type": "stream",
          "name": "stdout",
          "text": [
            "['dog', 'cat', 'bird', 'orange']\n"
          ]
        }
      ],
      "source": [
        "animals = [\"dog\", \"cat\", \"bird\"]\n",
        "animals.append(\"orange\")\n",
        "print(animals)"
      ]
    },
    {
      "cell_type": "markdown",
      "id": "e1f0abdf-d2f8-4d62-bb1b-7bf78f58fee9",
      "metadata": {
        "id": "e1f0abdf-d2f8-4d62-bb1b-7bf78f58fee9"
      },
      "source": [
        "### 문제 11. 집합 {5, 10, 15}와 {10, 20, 30}의 교집합의 길이(요소의 개수)를 구하시오."
      ]
    },
    {
      "cell_type": "code",
      "execution_count": null,
      "id": "e561b49a-e113-4043-918a-484f4426fba5",
      "metadata": {
        "id": "e561b49a-e113-4043-918a-484f4426fba5",
        "colab": {
          "base_uri": "https://localhost:8080/"
        },
        "outputId": "5b98a701-6097-42ba-ee76-6e345aa94842"
      },
      "outputs": [
        {
          "output_type": "stream",
          "name": "stdout",
          "text": [
            "1\n"
          ]
        }
      ],
      "source": [
        "a ={5, 10, 15}\n",
        "b = {10, 20, 30}\n",
        "\n",
        "ab = a.intersection(b)\n",
        "print(len(ab))"
      ]
    },
    {
      "cell_type": "markdown",
      "id": "e3b7a6e4-bbd8-4432-90c0-5d118ff9ee5c",
      "metadata": {
        "id": "e3b7a6e4-bbd8-4432-90c0-5d118ff9ee5c"
      },
      "source": [
        "### 문제 12. 리스트 [3, 6, 9, 3, 6, 12, 15]에서 중복을 제거하고, 정렬된 결과를 출력하시오."
      ]
    },
    {
      "cell_type": "code",
      "execution_count": null,
      "id": "a0e03c01-d8dd-47f5-917e-d764d41e4e30",
      "metadata": {
        "id": "a0e03c01-d8dd-47f5-917e-d764d41e4e30",
        "colab": {
          "base_uri": "https://localhost:8080/"
        },
        "outputId": "bb7026b6-223a-4b78-a8b9-6d41e2d64f08"
      },
      "outputs": [
        {
          "output_type": "execute_result",
          "data": {
            "text/plain": [
              "[3, 6, 9, 12, 15]"
            ]
          },
          "metadata": {},
          "execution_count": 14
        }
      ],
      "source": [
        "# prompt: numbers = [3, 6, 9, 3, 6, 12, 15]\n",
        "# new_numbers = sorted(list(set(numbers)))\n",
        "# print(new_numbers)\n",
        "\n",
        "numbers = [3, 6, 9, 3, 6, 12, 15]\n",
        "new_numbers = sorted(list(set(numbers)))\n",
        "new_numbers\n"
      ]
    }
  ],
  "metadata": {
    "kernelspec": {
      "display_name": "Python 3 (ipykernel)",
      "language": "python",
      "name": "python3"
    },
    "language_info": {
      "codemirror_mode": {
        "name": "ipython",
        "version": 3
      },
      "file_extension": ".py",
      "mimetype": "text/x-python",
      "name": "python",
      "nbconvert_exporter": "python",
      "pygments_lexer": "ipython3",
      "version": "3.10.11"
    },
    "colab": {
      "provenance": [],
      "include_colab_link": true
    }
  },
  "nbformat": 4,
  "nbformat_minor": 5
}